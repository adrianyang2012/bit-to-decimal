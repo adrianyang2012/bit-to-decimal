{
  "nbformat": 4,
  "nbformat_minor": 0,
  "metadata": {
    "colab": {
      "name": "bits_to_decimal.ipynb",
      "private_outputs": true,
      "provenance": [],
      "collapsed_sections": [],
      "authorship_tag": "ABX9TyPr6I1C3wzo6vSSpafET+ec",
      "include_colab_link": true
    },
    "kernelspec": {
      "name": "python3",
      "display_name": "Python 3"
    },
    "language_info": {
      "name": "python"
    }
  },
  "cells": [
    {
      "cell_type": "markdown",
      "metadata": {
        "id": "view-in-github",
        "colab_type": "text"
      },
      "source": [
        "<a href=\"https://colab.research.google.com/github/adrianyang2012/bit-to-decimal/blob/main/bits_to_decimal.ipynb\" target=\"_parent\"><img src=\"https://colab.research.google.com/assets/colab-badge.svg\" alt=\"Open In Colab\"/></a>"
      ]
    },
    {
      "cell_type": "markdown",
      "source": [
        "bit to decimal\n"
      ],
      "metadata": {
        "id": "TtyxgCebOLeg"
      }
    },
    {
      "cell_type": "code",
      "execution_count": null,
      "metadata": {
        "id": "tgVQZq11YiGa"
      },
      "outputs": [],
      "source": [
        "def bit_to_decimal(a):\n",
        "  return int(a,base=2)\n",
        "  \n",
        "def decimal_to_bit(a):\n",
        "  a = int(a)\n",
        "  s = []\n",
        "  while a != 0:\n",
        "    a = a/2\n",
        "    if a%1 != 0:\n",
        "      s.append('1')\n",
        "    else:\n",
        "      s.append('0')\n",
        "    a = int(a)\n",
        "  s.reverse()\n",
        "  return ''.join(s)\n",
        "\n",
        "\n",
        "mode = input('what mode is it [1] = bits to decimal ; [2] = decimal to bits: ')\n",
        "if mode == '1':\n",
        "  print(f\"number:{bit_to_decimal(input('type a bit string: '))}\")\n",
        "else:\n",
        "  print(f\"bits:{decimal_to_bit(input('type a number: '))}\")\n"
      ]
    }
  ]
}